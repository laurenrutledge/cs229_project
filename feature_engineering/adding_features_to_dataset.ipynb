{
 "cells": [
  {
   "cell_type": "code",
   "id": "initial_id",
   "metadata": {
    "collapsed": true,
    "ExecuteTime": {
     "end_time": "2025-03-14T20:41:45.906108Z",
     "start_time": "2025-03-14T20:41:45.824399Z"
    }
   },
   "source": [
    "import pandas as pd\n",
    "import numpy as np\n",
    "\n",
    "# Load Dataset\n",
    "data_file = \"../usaa_swim_data/swimmers_cleaned.csv\"\n",
    "df_cleaned = pd.read_csv(data_file)"
   ],
   "outputs": [],
   "execution_count": 48
  },
  {
   "metadata": {
    "ExecuteTime": {
     "end_time": "2025-03-14T20:41:45.935505Z",
     "start_time": "2025-03-14T20:41:45.908503Z"
    }
   },
   "cell_type": "code",
   "source": [
    "# Remove non-SCY events\n",
    "df_cleaned = df_cleaned[df_cleaned['Event'].str.contains(\"SCY\")]\n",
    "\n",
    "# Remove Strokes_1, Strokes_2, Strokes_3 since only focusing on best event here\n",
    "df_cleaned = df_cleaned.drop(columns=[\"Stroke_1\"])\n",
    "df_cleaned = df_cleaned.drop(columns=[\"Stroke_2\"])\n",
    "df_cleaned = df_cleaned.drop(columns=[\"Stroke_3\"])\n"
   ],
   "id": "28ece8075792cd7",
   "outputs": [],
   "execution_count": 49
  },
  {
   "metadata": {
    "ExecuteTime": {
     "end_time": "2025-03-14T20:41:45.972172Z",
     "start_time": "2025-03-14T20:41:45.942624Z"
    }
   },
   "cell_type": "code",
   "source": [
    "# **1. Time Cut Achievements**\n",
    "# Convert time cuts to ordinal values\n",
    "time_cut_mapping = {\n",
    "    \"Olympic Trials\": 24,\n",
    "    \"Summer Nationals\": 19,\n",
    "    \"Winter Nationals\": 19,\n",
    "    \"Winter US Open\": 15,\n",
    "    \"Summer Juniors\": 12,\n",
    "    \"Winter Juniors\": 10,\n",
    "    \"Futures\": 8,\n",
    "    \"AAAA\": 7,\n",
    "    \"AAA\": 6,\n",
    "    \"AA\": 5,\n",
    "    \"A\": 4,\n",
    "    \"BB\": 3,\n",
    "    \"B\": 2,\n",
    "    \"Slower than B\": 1  # Default for those without a recognized time cut\n",
    "}\n",
    "\n",
    "\n",
    "def extract_time_cut_category(time_cut):\n",
    "    \"\"\"Extracts the time cut category from the full time cut string\"\"\"\n",
    "    if pd.isna(time_cut):\n",
    "        return \"Slower than B\"\n",
    "    for key in time_cut_mapping.keys():\n",
    "        if key in time_cut:\n",
    "            return key\n",
    "    return \"Slower than B\"\n",
    "\n",
    "df_cleaned[\"Time_cut_Category\"] = df_cleaned[\"Time_cut\"].apply(extract_time_cut_category)\n",
    "df_cleaned[\"Time_cut_Score\"] = df_cleaned[\"Time_cut_Category\"].map(time_cut_mapping)\n",
    "\n",
    "\n",
    "# Verify\n",
    "print(df_cleaned[[\"Name\", \"Event\", \"Time_cut\", \"Time_cut_Category\", \"Time_cut_Score\"]].head())\n"
   ],
   "id": "1cbe2c7ef361abf0",
   "outputs": [
    {
     "name": "stdout",
     "output_type": "stream",
     "text": [
      "         Name      Event                     Time_cut Time_cut_Category  \\\n",
      "0  Alex Walsh  50 FR SCY  2018 Summer Nationals (LCM)  Summer Nationals   \n",
      "1  Alex Walsh  50 FR SCY  2021 Summer Nationals (LCM)  Summer Nationals   \n",
      "2  Alex Walsh  50 FR SCY  2019 Summer Nationals (LCM)  Summer Nationals   \n",
      "3  Alex Walsh  50 FR SCY  2018 Summer Nationals (LCM)  Summer Nationals   \n",
      "4  Alex Walsh  50 FR SCY  2018 Winter Nationals (LCM)  Winter Nationals   \n",
      "\n",
      "   Time_cut_Score  \n",
      "0              19  \n",
      "1              19  \n",
      "2              19  \n",
      "3              19  \n",
      "4              19  \n"
     ]
    }
   ],
   "execution_count": 50
  },
  {
   "metadata": {
    "ExecuteTime": {
     "end_time": "2025-03-14T20:41:45.988442Z",
     "start_time": "2025-03-14T20:41:45.978981Z"
    }
   },
   "cell_type": "code",
   "source": [
    "# **2. Consistency Metrics via Standard Deviation**\n",
    "\n",
    "# Compute standard deviation of swim times per swimmer-event\n",
    "df_cleaned[\"Time_Std\"] = df_cleaned.groupby([\"Name\", \"Event\"])[\"Time\"].transform(\"std\")\n",
    "\n",
    "# Replace NaN values (for swimmers with only one race) without using inplace=True\n",
    "df_cleaned[\"Time_Std\"] = df_cleaned[\"Time_Std\"].fillna(df_cleaned[\"Time_Std\"].median())\n",
    "\n",
    "# Verify\n",
    "print(df_cleaned[[\"Name\", \"Event\", \"Time\", \"Time_Std\"]].head())"
   ],
   "id": "b3e6c1a150c1596a",
   "outputs": [
    {
     "name": "stdout",
     "output_type": "stream",
     "text": [
      "         Name      Event   Time  Time_Std\n",
      "0  Alex Walsh  50 FR SCY  22.08  3.449292\n",
      "1  Alex Walsh  50 FR SCY  22.18  3.449292\n",
      "2  Alex Walsh  50 FR SCY  22.24  3.449292\n",
      "3  Alex Walsh  50 FR SCY  22.28  3.449292\n",
      "4  Alex Walsh  50 FR SCY  22.35  3.449292\n"
     ]
    }
   ],
   "execution_count": 51
  },
  {
   "metadata": {
    "ExecuteTime": {
     "end_time": "2025-03-14T20:41:46.026979Z",
     "start_time": "2025-03-14T20:41:45.998205Z"
    }
   },
   "cell_type": "code",
   "source": [
    "# Extract stroke and distance from event names\n",
    "df_cleaned[\"Stroke\"] = df_cleaned[\"Event\"].str.extract(r\"(FR|BK|BR|FL|IM)\", expand=False)\n",
    "df_cleaned[\"Distance\"] = df_cleaned[\"Event\"].str.extract(r\"(\\d+)\", expand=False).astype(float)\n",
    "\n",
    "# Check if any rows have missing strokes or distances\n",
    "print(df_cleaned[df_cleaned[\"Stroke\"].isna() | df_cleaned[\"Distance\"].isna()])"
   ],
   "id": "ae0a9a11b0af2f3f",
   "outputs": [
    {
     "name": "stdout",
     "output_type": "stream",
     "text": [
      "Empty DataFrame\n",
      "Columns: [Name, Event, Time, Age_at_time_of_Swim, Time_cut, Time_cut_points, Swim_date, Specialty_1, Specialty_2, Time_cut_Category, Time_cut_Score, Time_Std, Stroke, Distance]\n",
      "Index: []\n"
     ]
    }
   ],
   "execution_count": 52
  },
  {
   "metadata": {
    "ExecuteTime": {
     "end_time": "2025-03-14T20:41:46.043335Z",
     "start_time": "2025-03-14T20:41:46.034458Z"
    }
   },
   "cell_type": "code",
   "source": [
    "# COMPUTE SPECIALIZATION SCORES \n",
    "\n",
    "# Step 1: Get each swimmer's highest time cut score achieved in any event\n",
    "df_cleaned[\"Best_Time_Cut_at_Age\"] = df_cleaned.groupby([\"Name\", \"Age_at_time_of_Swim\"])[\"Time_cut_Score\"].transform(\"max\")\n",
    "\n",
    "\n",
    "# Step 2: Compute Specialization Score Using This Variable\n",
    "df_cleaned[\"Specialization_Score\"] = df_cleaned[\"Time_cut_Score\"] / df_cleaned[\"Best_Time_Cut_at_Age\"]\n",
    "\n",
    "# Step 3: Properly handle cases where Best_Time_Cut is zero (avoid division by zero)\n",
    "df_cleaned[\"Specialization_Score\"] = df_cleaned[\"Specialization_Score\"].fillna(0)  \n",
    "\n",
    "# Verify results\n",
    "print(df_cleaned[[\"Name\", \"Age_at_time_of_Swim\", \"Event\", \"Time_cut_Score\", \"Best_Time_Cut_at_Age\", \"Specialization_Score\"]].sample(10))\n",
    "\n"
   ],
   "id": "2505a7584a38f945",
   "outputs": [
    {
     "name": "stdout",
     "output_type": "stream",
     "text": [
      "                    Name  Age_at_time_of_Swim       Event  Time_cut_Score  \\\n",
      "38756       Gabi Albiero                   12  200 IM SCY               6   \n",
      "89845      Paige McKenna                   11   50 BK SCY               3   \n",
      "55643     Emily Lundgren                   10  200 FR SCY               7   \n",
      "631           Alex Walsh                   15  200 IM SCY               7   \n",
      "11360        Isabel Ivey                   11   50 BK SCY               4   \n",
      "65901  Katharine Berkoff                   10  200 IM SCY               5   \n",
      "85094      Abby McCulloh                   12  400 IM SCY               6   \n",
      "88256     Erica Sullivan                    9  200 FR SCY               3   \n",
      "59779       Joleigh Crye                   10   50 BK SCY               4   \n",
      "68996       Catie Choate                   19   50 BK SCY               2   \n",
      "\n",
      "       Best_Time_Cut_at_Age  Specialization_Score  \n",
      "38756                     7              0.857143  \n",
      "89845                     6              0.500000  \n",
      "55643                     7              1.000000  \n",
      "631                      19              0.368421  \n",
      "11360                     6              0.666667  \n",
      "65901                     7              0.714286  \n",
      "85094                     7              0.857143  \n",
      "88256                     5              0.600000  \n",
      "59779                     7              0.571429  \n",
      "68996                    19              0.105263  \n"
     ]
    }
   ],
   "execution_count": 53
  },
  {
   "metadata": {
    "ExecuteTime": {
     "end_time": "2025-03-14T20:41:46.120966Z",
     "start_time": "2025-03-14T20:41:46.102784Z"
    }
   },
   "cell_type": "code",
   "source": [
    "# Identify the Best Event for Each Swimmer at Each Age\n",
    "\n",
    "# Step 1: Identify the index of the event that gave the swimmer their highest time cut score at each age\n",
    "idx_best_event = df_cleaned.groupby([\"Name\", \"Age_at_time_of_Swim\"])[\"Time_cut_Score\"].idxmax()\n",
    "\n",
    "# Step 2: Create a DataFrame that contains the best event per swimmer per age\n",
    "df_best_event = df_cleaned.loc[idx_best_event, [\"Name\", \"Age_at_time_of_Swim\", \"Event\"]]\n",
    "\n",
    "# Step 3: Rename \"Event\" to \"Best_Event\" before merging (keeps original \"Event\" column intact)\n",
    "df_best_event = df_best_event.rename(columns={\"Event\": \"Best_Event\"})\n",
    "\n",
    "# Step 4: Merge this best event information back into df_cleaned\n",
    "df_cleaned = df_cleaned.merge(df_best_event, on=[\"Name\", \"Age_at_time_of_Swim\"], how=\"left\")"
   ],
   "id": "36d7f4989d38782",
   "outputs": [],
   "execution_count": 54
  },
  {
   "metadata": {
    "ExecuteTime": {
     "end_time": "2025-03-14T20:41:46.139557Z",
     "start_time": "2025-03-14T20:41:46.128741Z"
    }
   },
   "cell_type": "code",
   "source": [
    "# **4. Career Length**\n",
    "# Compute the number of years a swimmer competed\n",
    "df_cleaned[\"Career_Length\"] = df_cleaned.groupby(\"Name\")[\"Age_at_time_of_Swim\"].transform(lambda x: x.max() - x.min())\n"
   ],
   "id": "3761e92b5787522",
   "outputs": [],
   "execution_count": 55
  },
  {
   "metadata": {
    "ExecuteTime": {
     "end_time": "2025-03-14T20:41:46.315925Z",
     "start_time": "2025-03-14T20:41:46.147617Z"
    }
   },
   "cell_type": "code",
   "source": [
    "# **Final Processing & Cleanup**\n",
    "\n",
    "# Drop unnecessary columns\n",
    "df_features = df_cleaned[[\"Name\", \"Event\", \"Time\", \"Age_at_time_of_Swim\", \"Time_cut\", \"Time_cut_Score\", \"Best_Event\", \"Time_Std\", \"Specialization_Score\", \"Career_Length\", \"Specialty_1\", \"Specialty_2\"]]\n",
    "\n",
    "# Save processed data for modeling\n",
    "df_features.to_csv(\"processed_swim_features.csv\", index=False)\n",
    "\n",
    "# Display feature statistics\n",
    "print(df_features.describe())"
   ],
   "id": "73920cd7ec672329",
   "outputs": [
    {
     "name": "stdout",
     "output_type": "stream",
     "text": [
      "               Time  Age_at_time_of_Swim  Time_cut_Score      Time_Std  \\\n",
      "count  59672.000000         59672.000000    59672.000000  59672.000000   \n",
      "mean     110.547549            13.979756        7.750436     11.418234   \n",
      "std      131.509100             3.813050        5.161538      8.357733   \n",
      "min       20.370000             4.000000        1.000000      0.000000   \n",
      "25%       50.420000            11.000000        4.000000      6.673417   \n",
      "50%       67.200000            14.000000        6.000000      9.403317   \n",
      "75%      125.300000            17.000000        8.000000     13.274142   \n",
      "max     1681.600000            34.000000       19.000000    119.252015   \n",
      "\n",
      "       Specialization_Score  Career_Length  \n",
      "count          59672.000000   59672.000000  \n",
      "mean               0.681622      13.821122  \n",
      "std                0.260934       2.391696  \n",
      "min                0.052632       1.000000  \n",
      "25%                0.500000      13.000000  \n",
      "50%                0.714286      14.000000  \n",
      "75%                0.875000      15.000000  \n",
      "max                1.000000      23.000000  \n"
     ]
    }
   ],
   "execution_count": 56
  },
  {
   "metadata": {
    "ExecuteTime": {
     "end_time": "2025-03-14T20:41:46.377284Z",
     "start_time": "2025-03-14T20:41:46.375966Z"
    }
   },
   "cell_type": "code",
   "source": "",
   "id": "d1a3dfb42e4712b",
   "outputs": [],
   "execution_count": null
  }
 ],
 "metadata": {
  "kernelspec": {
   "display_name": "Python (cs229_project_env)",
   "language": "python",
   "name": "cs229_project_env"
  },
  "language_info": {
   "codemirror_mode": {
    "name": "ipython",
    "version": 2
   },
   "file_extension": ".py",
   "mimetype": "text/x-python",
   "name": "python",
   "nbconvert_exporter": "python",
   "pygments_lexer": "ipython2",
   "version": "2.7.6"
  }
 },
 "nbformat": 4,
 "nbformat_minor": 5
}
