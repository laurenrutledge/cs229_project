{
 "cells": [
  {
   "cell_type": "code",
   "id": "initial_id",
   "metadata": {
    "collapsed": true,
    "ExecuteTime": {
     "end_time": "2025-03-14T06:56:20.559092Z",
     "start_time": "2025-03-14T06:56:19.973376Z"
    }
   },
   "source": "import pandas as pd\n",
   "outputs": [],
   "execution_count": 1
  },
  {
   "metadata": {
    "ExecuteTime": {
     "end_time": "2025-03-14T06:56:20.669305Z",
     "start_time": "2025-03-14T06:56:20.564155Z"
    }
   },
   "cell_type": "code",
   "source": [
    "# Load in CSV of all female swimmers\n",
    "file_path = \"./usaa_swim_data/female_swimmers_csv.csv\"\n",
    "df = pd.read_csv(file_path)\n",
    "\n",
    "print(df.head())\n",
    "\n"
   ],
   "id": "9f8c48d8dea5e2ca",
   "outputs": [
    {
     "name": "stdout",
     "output_type": "stream",
     "text": [
      "         Name      EVENT    TIME  AGE_AT_TIME_OF_SWIM  \\\n",
      "0  Alex Walsh  50 FR SCY   22.08                   16   \n",
      "1  Alex Walsh  50 FR SCY  22.18r                   18   \n",
      "2  Alex Walsh  50 FR SCY   22.24                   17   \n",
      "3  Alex Walsh  50 FR SCY   22.28                   16   \n",
      "4  Alex Walsh  50 FR SCY   22.35                   16   \n",
      "\n",
      "                      TIME_CUT                   MEET_PERFORMED  \\\n",
      "0  2018 Summer Nationals (LCM)         2018 SE Southern Premier   \n",
      "1  2021 Summer Nationals (LCM)  2020 GA Speedo Southern Premier   \n",
      "2  2019 Summer Nationals (LCM)  2019 SE Speedo Southern Premier   \n",
      "3  2018 Summer Nationals (LCM)   2017 Winter Junior Nats - East   \n",
      "4  2018 Winter Nationals (LCM)   2017 Winter Junior Nats - East   \n",
      "\n",
      "  REGION_OF_MEET                    TEAM SWIM_DATE   Unnamed: 9  Unnamed: 10  \\\n",
      "0             SE  Nashville Aquatic Club    3/3/18  PROGRESSION          NaN   \n",
      "1             SE  Nashville Aquatic Club    3/6/20  PROGRESSION          NaN   \n",
      "2             SE  Nashville Aquatic Club    3/2/19  PROGRESSION          NaN   \n",
      "3             SE  Nashville Aquatic Club   12/7/17  PROGRESSION          NaN   \n",
      "4             SE  Nashville Aquatic Club   12/7/17  PROGRESSION          NaN   \n",
      "\n",
      "  SPECIALTY_1 SPECIALTY_2           STROKES  \n",
      "0      200 IM  200 Breast  IM, Breast, Back  \n",
      "1      200 IM  200 Breast  IM, Breast, Back  \n",
      "2      200 IM  200 Breast  IM, Breast, Back  \n",
      "3      200 IM  200 Breast  IM, Breast, Back  \n",
      "4      200 IM  200 Breast  IM, Breast, Back  \n"
     ]
    }
   ],
   "execution_count": 2
  },
  {
   "metadata": {
    "ExecuteTime": {
     "end_time": "2025-03-14T06:56:20.742972Z",
     "start_time": "2025-03-14T06:56:20.740523Z"
    }
   },
   "cell_type": "code",
   "source": [
    "# Rename relevant columns for clarity\n",
    "df.rename(columns={\n",
    "    \"NAME\": \"Name\",\n",
    "    \"EVENT\": \"Event\",\n",
    "    \"TIME\": \"Time\",\n",
    "    \"AGE_AT_TIME_OF_SWIM\": \"Age_at_time_of_Swim\",\n",
    "    \"TIME_CUT\": \"Time_cut\", \n",
    "    \"SWIM_DATE\": \"Swim_date\",\n",
    "    \"SPECIALTY_1\": \"Specialty_1\",\n",
    "    \"SPECIALTY_2\": \"Specialty_2\",\n",
    "    \"STROKES\": \"Strokes\"\n",
    "}, inplace=True)"
   ],
   "id": "b4cebf9a2ced2bbd",
   "outputs": [],
   "execution_count": 3
  },
  {
   "metadata": {
    "ExecuteTime": {
     "end_time": "2025-03-14T06:56:20.750294Z",
     "start_time": "2025-03-14T06:56:20.748314Z"
    }
   },
   "cell_type": "code",
   "source": [
    "def convert_swim_time(time_str):\n",
    "    \"\"\"Convert swim times in MM:SS.ss or SS.ss format to total seconds.\"\"\"\n",
    "    time_str = str(time_str).strip().replace(\"r\", \"\")  # Remove 'r' and extra spaces\n",
    "    \n",
    "    if \":\" in time_str:  # If the time is in MM:SS.ss format\n",
    "        minutes, seconds = time_str.split(\":\")\n",
    "        return float(minutes) * 60 + float(seconds)\n",
    "    else:  # If the time is already in SS.ss format\n",
    "        return float(time_str)"
   ],
   "id": "eec0fb0742f5c4eb",
   "outputs": [],
   "execution_count": 4
  },
  {
   "metadata": {
    "ExecuteTime": {
     "end_time": "2025-03-14T06:56:20.801853Z",
     "start_time": "2025-03-14T06:56:20.755883Z"
    }
   },
   "cell_type": "code",
   "source": [
    "# Clean Columns one by one: \n",
    "\n",
    "# Name - N/A\n",
    "# Event - N/A\n",
    "# Age at time of swim - NA\n",
    "\n",
    "# Time Cut - N/A\n",
    "# Swim Date - Convert Swim_date to datetime format\n",
    "# If your dates are in \"MM/DD/YYYY\" format:\n",
    "df[\"Swim_date\"] = df[\"Swim_date\"].astype(str)\n",
    "# Convert M/D/YY to proper datetime format\n",
    "df[\"Swim_date\"] = pd.to_datetime(df[\"Swim_date\"], format=\"%m/%d/%y\", errors=\"coerce\")\n",
    "\n",
    "# Time - Remove trailing 'r' from Time and convert to float\n",
    "# Apply conversion to the Time column\n",
    "df[\"Time\"] = df[\"Time\"].apply(convert_swim_time)\n",
    "\n",
    "# Print to verify\n",
    "print(df[[\"Name\", \"Event\", \"Time\", \"Swim_date\"]].head())\n",
    "\n",
    "# Continued in next code block"
   ],
   "id": "878c963b47bd60f6",
   "outputs": [
    {
     "name": "stdout",
     "output_type": "stream",
     "text": [
      "         Name      Event   Time  Swim_date\n",
      "0  Alex Walsh  50 FR SCY  22.08 2018-03-03\n",
      "1  Alex Walsh  50 FR SCY  22.18 2020-03-06\n",
      "2  Alex Walsh  50 FR SCY  22.24 2019-03-02\n",
      "3  Alex Walsh  50 FR SCY  22.28 2017-12-07\n",
      "4  Alex Walsh  50 FR SCY  22.35 2017-12-07\n"
     ]
    }
   ],
   "execution_count": 5
  },
  {
   "metadata": {
    "ExecuteTime": {
     "end_time": "2025-03-14T06:56:20.892334Z",
     "start_time": "2025-03-14T06:56:20.808059Z"
    }
   },
   "cell_type": "code",
   "source": [
    "# Clean Columns one by one - continued \n",
    "\n",
    "# Specialty_1: N/A\n",
    "# Specialty_2: N/A\n",
    "# Ensure the column exists and is of string type before splitting\n",
    "df[\"Strokes\"] = df[\"Strokes\"].fillna(\"\").astype(str)\n",
    "\n",
    "# Split 'Strokes' column into up to 3 separate stroke columns\n",
    "stroke_split = df[\"Strokes\"].str.split(\",\", expand=True)\n",
    "\n",
    "# Assign stroke columns dynamically (handling cases with fewer than 3 strokes)\n",
    "df[\"Stroke_1\"] = stroke_split[0].str.strip().fillna(\"None\")\n",
    "df[\"Stroke_2\"] = stroke_split[1].str.strip().fillna(\"None\") if stroke_split.shape[1] > 1 else \"None\"\n",
    "df[\"Stroke_3\"] = stroke_split[2].str.strip().fillna(\"None\") if stroke_split.shape[1] > 2 else \"None\"\n",
    "\n",
    "# Print sample output to verify\n",
    "print(df[[\"Strokes\", \"Stroke_1\", \"Stroke_2\", \"Stroke_3\"]].head())"
   ],
   "id": "71cf448a47dda5a3",
   "outputs": [
    {
     "name": "stdout",
     "output_type": "stream",
     "text": [
      "            Strokes Stroke_1 Stroke_2 Stroke_3\n",
      "0  IM, Breast, Back       IM   Breast     Back\n",
      "1  IM, Breast, Back       IM   Breast     Back\n",
      "2  IM, Breast, Back       IM   Breast     Back\n",
      "3  IM, Breast, Back       IM   Breast     Back\n",
      "4  IM, Breast, Back       IM   Breast     Back\n"
     ]
    }
   ],
   "execution_count": 6
  },
  {
   "metadata": {
    "ExecuteTime": {
     "end_time": "2025-03-14T06:56:20.953477Z",
     "start_time": "2025-03-14T06:56:20.898547Z"
    }
   },
   "cell_type": "code",
   "source": [
    "# Define time cut point system\n",
    "time_cut_points = {\n",
    "    \"Olympic Trials\": 24,\n",
    "    \"Summer Nationals\": 19,\n",
    "    \"Winter Nationals\": 18,\n",
    "    \"Winter US Open\": 15,\n",
    "    \"Summer Juniors\": 12,\n",
    "    \"Winter Juniors\": 10,\n",
    "    \"Futures\": 8,\n",
    "    \"AAAA\": 7,\n",
    "    \"AAA\": 6,\n",
    "    \"AA\": 5,\n",
    "    \"A\": 4,\n",
    "    \"BB\": 3,\n",
    "    \"B\": 2,\n",
    "    \"Slower Than B\": 1\n",
    "}\n",
    "\n",
    "# Assign points based on partial match in \"Time_cut\"\n",
    "def assign_time_cut_points(time_cut_value):\n",
    "    if pd.isna(time_cut_value):\n",
    "        return 0\n",
    "    for cut_name, points in time_cut_points.items():\n",
    "        if cut_name in time_cut_value:\n",
    "            return points\n",
    "    return 0\n",
    "\n",
    "# Apply function to Time_cut column\n",
    "df[\"Time_cut_points\"] = df[\"Time_cut\"].apply(assign_time_cut_points)\n",
    "\n",
    "# Print sample output\n",
    "print(df[[\"Time_cut\", \"Time_cut_points\"]].head())"
   ],
   "id": "25905445a2c41ca0",
   "outputs": [
    {
     "name": "stdout",
     "output_type": "stream",
     "text": [
      "                      Time_cut  Time_cut_points\n",
      "0  2018 Summer Nationals (LCM)               19\n",
      "1  2021 Summer Nationals (LCM)               19\n",
      "2  2019 Summer Nationals (LCM)               19\n",
      "3  2018 Summer Nationals (LCM)               19\n",
      "4  2018 Winter Nationals (LCM)               18\n"
     ]
    }
   ],
   "execution_count": 7
  },
  {
   "metadata": {
    "ExecuteTime": {
     "end_time": "2025-03-14T06:56:20.969130Z",
     "start_time": "2025-03-14T06:56:20.960495Z"
    }
   },
   "cell_type": "code",
   "source": [
    "columns_to_keep = [\"Name\", \"Event\", \"Time\", \"Age_at_time_of_Swim\", \"Time_cut\", \"Time_cut_points\", \"Swim_date\", \"Specialty_1\", \"Specialty_2\", \"Stroke_1\", \"Stroke_2\", \"Stroke_3\"]\n",
    "\n",
    "# Select only relevant columns for a cleaned data frame\n",
    "df_cleaned = df[columns_to_keep]\n",
    "\n",
    "\n",
    "\n",
    "print(df_cleaned.head())\n"
   ],
   "id": "6c71ddc41a07164d",
   "outputs": [
    {
     "name": "stdout",
     "output_type": "stream",
     "text": [
      "         Name      Event   Time  Age_at_time_of_Swim  \\\n",
      "0  Alex Walsh  50 FR SCY  22.08                   16   \n",
      "1  Alex Walsh  50 FR SCY  22.18                   18   \n",
      "2  Alex Walsh  50 FR SCY  22.24                   17   \n",
      "3  Alex Walsh  50 FR SCY  22.28                   16   \n",
      "4  Alex Walsh  50 FR SCY  22.35                   16   \n",
      "\n",
      "                      Time_cut  Time_cut_points  Swim_date Specialty_1  \\\n",
      "0  2018 Summer Nationals (LCM)               19 2018-03-03      200 IM   \n",
      "1  2021 Summer Nationals (LCM)               19 2020-03-06      200 IM   \n",
      "2  2019 Summer Nationals (LCM)               19 2019-03-02      200 IM   \n",
      "3  2018 Summer Nationals (LCM)               19 2017-12-07      200 IM   \n",
      "4  2018 Winter Nationals (LCM)               18 2017-12-07      200 IM   \n",
      "\n",
      "  Specialty_2 Stroke_1 Stroke_2 Stroke_3  \n",
      "0  200 Breast       IM   Breast     Back  \n",
      "1  200 Breast       IM   Breast     Back  \n",
      "2  200 Breast       IM   Breast     Back  \n",
      "3  200 Breast       IM   Breast     Back  \n",
      "4  200 Breast       IM   Breast     Back  \n"
     ]
    }
   ],
   "execution_count": 8
  },
  {
   "metadata": {
    "ExecuteTime": {
     "end_time": "2025-03-14T06:56:21.252770Z",
     "start_time": "2025-03-14T06:56:21.030389Z"
    }
   },
   "cell_type": "code",
   "source": [
    "\n",
    "# Save cleaned data\n",
    "cleaned_file_path = \"./usaa_swim_data/swimmers_cleaned.csv\"\n",
    "df_cleaned.to_csv(cleaned_file_path, index=False)\n",
    "\n",
    "# Print the first few rows of cleaned data\n",
    "print(df_cleaned.head())"
   ],
   "id": "e6fa3bc0ae48382",
   "outputs": [
    {
     "name": "stdout",
     "output_type": "stream",
     "text": [
      "         Name      Event   Time  Age_at_time_of_Swim  \\\n",
      "0  Alex Walsh  50 FR SCY  22.08                   16   \n",
      "1  Alex Walsh  50 FR SCY  22.18                   18   \n",
      "2  Alex Walsh  50 FR SCY  22.24                   17   \n",
      "3  Alex Walsh  50 FR SCY  22.28                   16   \n",
      "4  Alex Walsh  50 FR SCY  22.35                   16   \n",
      "\n",
      "                      Time_cut  Time_cut_points  Swim_date Specialty_1  \\\n",
      "0  2018 Summer Nationals (LCM)               19 2018-03-03      200 IM   \n",
      "1  2021 Summer Nationals (LCM)               19 2020-03-06      200 IM   \n",
      "2  2019 Summer Nationals (LCM)               19 2019-03-02      200 IM   \n",
      "3  2018 Summer Nationals (LCM)               19 2017-12-07      200 IM   \n",
      "4  2018 Winter Nationals (LCM)               18 2017-12-07      200 IM   \n",
      "\n",
      "  Specialty_2 Stroke_1 Stroke_2 Stroke_3  \n",
      "0  200 Breast       IM   Breast     Back  \n",
      "1  200 Breast       IM   Breast     Back  \n",
      "2  200 Breast       IM   Breast     Back  \n",
      "3  200 Breast       IM   Breast     Back  \n",
      "4  200 Breast       IM   Breast     Back  \n"
     ]
    }
   ],
   "execution_count": 9
  }
 ],
 "metadata": {
  "kernelspec": {
   "display_name": "Python (cs229_project_env)",
   "language": "python",
   "name": "cs229_project_env"
  },
  "language_info": {
   "codemirror_mode": {
    "name": "ipython",
    "version": 2
   },
   "file_extension": ".py",
   "mimetype": "text/x-python",
   "name": "python",
   "nbconvert_exporter": "python",
   "pygments_lexer": "ipython2",
   "version": "2.7.6"
  }
 },
 "nbformat": 4,
 "nbformat_minor": 5
}
