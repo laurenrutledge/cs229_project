{
 "cells": [
  {
   "metadata": {},
   "cell_type": "markdown",
   "source": "",
   "id": "35c42b2c31e4e914"
  },
  {
   "cell_type": "code",
   "id": "initial_id",
   "metadata": {
    "collapsed": true,
    "ExecuteTime": {
     "end_time": "2025-03-13T19:34:44.176743Z",
     "start_time": "2025-03-13T19:34:44.173865Z"
    }
   },
   "source": [
    "import sys\n",
    "import pandas as pd\n",
    "import numpy as np\n",
    "import matplotlib.pyplot as plt\n",
    "from statsmodels.tsa.arima.model import ARIMA\n",
    "from pmdarima import auto_arima\n",
    "from statsmodels.tsa.stattools import adfuller\n",
    "import warnings\n",
    "\n",
    "warnings.filterwarnings(\"ignore\")  # Suppress warnings for cleaner output"
   ],
   "outputs": [],
   "execution_count": 44
  },
  {
   "metadata": {
    "ExecuteTime": {
     "end_time": "2025-03-13T19:34:44.286954Z",
     "start_time": "2025-03-13T19:34:44.210941Z"
    }
   },
   "cell_type": "code",
   "source": [
    "# Load Dataset: \n",
    "data_file = \"../usaa_swim_data/swimmers_cleaned.csv\"\n",
    "# Filter data for this event\n",
    "df_cleaned = pd.read_csv(data_file)\n",
    "\n",
    "print(df_cleaned.head())"
   ],
   "id": "b4d2957912f90ec5",
   "outputs": [
    {
     "name": "stdout",
     "output_type": "stream",
     "text": [
      "         Name      Event   Time  Age_at_time_of_Swim  \\\n",
      "0  Alex Walsh  50 FR SCY  22.08                   16   \n",
      "1  Alex Walsh  50 FR SCY  22.18                   18   \n",
      "2  Alex Walsh  50 FR SCY  22.24                   17   \n",
      "3  Alex Walsh  50 FR SCY  22.28                   16   \n",
      "4  Alex Walsh  50 FR SCY  22.35                   16   \n",
      "\n",
      "                      Time_cut  Time_cut_points   Swim_date Specialty_1  \\\n",
      "0  2018 Summer Nationals (LCM)               19  2018-03-03      200 IM   \n",
      "1  2021 Summer Nationals (LCM)               19  2020-03-06      200 IM   \n",
      "2  2019 Summer Nationals (LCM)               19  2019-03-02      200 IM   \n",
      "3  2018 Summer Nationals (LCM)               19  2017-12-07      200 IM   \n",
      "4  2018 Winter Nationals (LCM)               18  2017-12-07      200 IM   \n",
      "\n",
      "  Specialty_2 Stroke_1 Stroke_2 Stroke_3  \n",
      "0  200 Breast       IM   Breast     Back  \n",
      "1  200 Breast       IM   Breast     Back  \n",
      "2  200 Breast       IM   Breast     Back  \n",
      "3  200 Breast       IM   Breast     Back  \n",
      "4  200 Breast       IM   Breast     Back  \n"
     ]
    }
   ],
   "execution_count": 45
  },
  {
   "metadata": {
    "ExecuteTime": {
     "end_time": "2025-03-13T19:34:44.476263Z",
     "start_time": "2025-03-13T19:34:44.297338Z"
    }
   },
   "cell_type": "code",
   "source": [
    "# Since the specialty is just \"200 IM\" for instance, and event would be \"200 IM SCY\", \n",
    "# we need to account for this to make the specialty match up with the event name\n",
    "\n",
    "# Focus on SCY events\n",
    "df_cleaned = df_cleaned[df_cleaned['Event'].str.contains(\"SCY\")]\n",
    "\n",
    "# Define stroke mapping for consistency\n",
    "stroke_mapping = {\n",
    "    \"Free\": \"FR\",\n",
    "    \"Back\": \"BK\",\n",
    "    \"Breast\": \"BR\",\n",
    "    \"Fly\": \"FL\",\n",
    "    \"IM\": \"IM\"\n",
    "}\n",
    "# Remove course type (SCY, LCM, SCM) from ALL Event names in df_cleaned\n",
    "df_cleaned[\"Event\"] = df_cleaned[\"Event\"].str.replace(\" SCY\", \"\", regex=False)\n",
    "df_cleaned[\"Event\"] = df_cleaned[\"Event\"].str.replace(\" LCM\", \"\", regex=False)\n",
    "df_cleaned[\"Event\"] = df_cleaned[\"Event\"].str.replace(\" SCM\", \"\", regex=False)\n",
    "\n",
    "\n",
    "# Convert `Specialty_1` and `Specialty_2` to match event format\n",
    "df_cleaned[\"Specialty_1\"] = df_cleaned[\"Specialty_1\"].replace(stroke_mapping, regex=True)\n",
    "df_cleaned[\"Specialty_2\"] = df_cleaned[\"Specialty_2\"].replace(stroke_mapping, regex=True)\n",
    "\n",
    "# Print to verify conversion\n",
    "print(\"Updated Specialty_1 Values:\", df_cleaned[\"Specialty_1\"].unique()[:20])\n",
    "print(\"Updated Specialty_2 Values:\", df_cleaned[\"Specialty_2\"].unique()[:20])\n",
    "\n"
   ],
   "id": "81eb8f625dfdcfc2",
   "outputs": [
    {
     "name": "stdout",
     "output_type": "stream",
     "text": [
      "Updated Specialty_1 Values: ['200 IM' '400 IM' '200 FR' nan '100 BK' '100 FL' '200 FL' '50 FR'\n",
      " '100 BR' '200 BR' '200 BK' '1650 FR' '1000 FR']\n",
      "Updated Specialty_2 Values: ['200 BR' '500 FR' '200 FL' '400 FR' '400 IM' nan '200 IM' '100 FR'\n",
      " '200 BK' '100 FL' '201 FL' '100 BR' '100 BK' '50 FR' '1000 FR' '1650 FR'\n",
      " '800 FR']\n"
     ]
    }
   ],
   "execution_count": 46
  },
  {
   "metadata": {
    "ExecuteTime": {
     "end_time": "2025-03-13T19:34:44.542499Z",
     "start_time": "2025-03-13T19:34:44.538692Z"
    }
   },
   "cell_type": "code",
   "source": [
    "# Select a specific event to analyze\n",
    "raw_event_name = \"100 Free SCY\"  # Example\n",
    "\n",
    "# Get unique events\n",
    "unique_events = df_cleaned[\"Event\"].unique()\n",
    "\n",
    "# Store results\n",
    "results = {}"
   ],
   "id": "dee9e40b766aa504",
   "outputs": [],
   "execution_count": 47
  },
  {
   "metadata": {
    "ExecuteTime": {
     "end_time": "2025-03-13T19:34:44.558893Z",
     "start_time": "2025-03-13T19:34:44.556542Z"
    }
   },
   "cell_type": "code",
   "source": [
    "# Remove course type (SCY, LCM, SCM)\n",
    "event_minus_course_name = raw_event_name.replace(\" SCY\", \"\").replace(\" LCM\", \"\").replace(\" SCM\", \"\")\n",
    "event_parts = event_minus_course_name.split()\n",
    "\n",
    "# Extract event distance and stroke\n",
    "event_distance = event_parts[0]  # Example: \"50\"\n",
    "event_stroke = event_parts[1]  # Example: \"Free\"\n",
    "\n",
    "# Convert event name to correct format (\"50 FR\")\n",
    "event_name = f\"{event_distance} {stroke_mapping.get(event_stroke, event_stroke)}\"\n",
    "\n",
    "print(\"Formatted Event Name:\", event_name)\n"
   ],
   "id": "af725e383652f6c",
   "outputs": [
    {
     "name": "stdout",
     "output_type": "stream",
     "text": [
      "Formatted Event Name: 100 FR\n"
     ]
    }
   ],
   "execution_count": 48
  },
  {
   "metadata": {
    "ExecuteTime": {
     "end_time": "2025-03-13T19:34:44.653840Z",
     "start_time": "2025-03-13T19:34:44.635820Z"
    }
   },
   "cell_type": "code",
   "source": [
    "# Identify Specialists & Non-Specialists\n",
    "specialist_data = df_cleaned[\n",
    "    (df_cleaned[\"Event\"] == event_name) &\n",
    "    ((df_cleaned[\"Specialty_1\"] == event_name) | (df_cleaned[\"Specialty_2\"] == event_name))\n",
    "    ]\n",
    "\n",
    "non_specialist_data = df_cleaned[\n",
    "    (df_cleaned[\"Event\"] == event_name) &\n",
    "    ~((df_cleaned[\"Specialty_1\"] == event_name) | (df_cleaned[\"Specialty_2\"] == event_name))\n",
    "    ]\n",
    "\n",
    "\n",
    "# Print counts to verify\n",
    "print(f\"Specialists Found: {specialist_data.shape[0]}\")\n",
    "print(f\"Non-Specialists Found: {non_specialist_data.shape[0]}\")\n",
    "\n",
    "print(\"Unique Event Values in df_cleaned:\", df_cleaned[\"Event\"].unique()[:20])\n",
    "print(\"Unique Specialty_1 Values in df_cleaned:\", df_cleaned[\"Specialty_1\"].unique()[:20])\n",
    "print(\"Unique Specialty_2 Values in df_cleaned:\", df_cleaned[\"Specialty_2\"].unique()[:20])\n",
    "print(\"Formatted Event Name:\", event_name)\n"
   ],
   "id": "588b68aa397dd56b",
   "outputs": [
    {
     "name": "stdout",
     "output_type": "stream",
     "text": [
      "Specialists Found: 702\n",
      "Non-Specialists Found: 4863\n",
      "Unique Event Values in df_cleaned: ['50 FR' '100 FR' '200 FR' '500 FR' '50 BK' '100 BK' '200 BK' '50 BR'\n",
      " '100 BR' '200 BR' '50 FL' '100 FL' '200 FL' '100 IM' '200 IM' '400 IM'\n",
      " '1000 FR' '1650 FR']\n",
      "Unique Specialty_1 Values in df_cleaned: ['200 IM' '400 IM' '200 FR' nan '100 BK' '100 FL' '200 FL' '50 FR'\n",
      " '100 BR' '200 BR' '200 BK' '1650 FR' '1000 FR']\n",
      "Unique Specialty_2 Values in df_cleaned: ['200 BR' '500 FR' '200 FL' '400 FR' '400 IM' nan '200 IM' '100 FR'\n",
      " '200 BK' '100 FL' '201 FL' '100 BR' '100 BK' '50 FR' '1000 FR' '1650 FR'\n",
      " '800 FR']\n",
      "Formatted Event Name: 100 FR\n"
     ]
    }
   ],
   "execution_count": 49
  },
  {
   "metadata": {
    "ExecuteTime": {
     "end_time": "2025-03-13T19:34:44.666614Z",
     "start_time": "2025-03-13T19:34:44.662853Z"
    }
   },
   "cell_type": "code",
   "source": [
    "# Compute mean swim time per age for specialists\n",
    "specialist_means = specialist_data.groupby(\"Age_at_time_of_Swim\")[\"Time\"].mean()\n",
    "\n",
    "# Compute mean swim time per age for non-specialists\n",
    "non_specialist_means = non_specialist_data.groupby(\"Age_at_time_of_Swim\")[\"Time\"].mean()\n",
    "\n",
    "# Print the computed means\n",
    "print(\"Specialists Mean Swim Times:\\n\", specialist_means)\n",
    "print(\"\\nNon-Specialists Mean Swim Times:\\n\", non_specialist_means)"
   ],
   "id": "62832a4d5c558cd0",
   "outputs": [
    {
     "name": "stdout",
     "output_type": "stream",
     "text": [
      "Specialists Mean Swim Times:\n",
      " Age_at_time_of_Swim\n",
      "5     107.700000\n",
      "6      88.041667\n",
      "7      78.538889\n",
      "8      72.856667\n",
      "9      67.657273\n",
      "10     62.151316\n",
      "11     58.390000\n",
      "12     55.588983\n",
      "13     53.434464\n",
      "14     51.595667\n",
      "15     51.101964\n",
      "16     50.105455\n",
      "17     49.975349\n",
      "18     49.849189\n",
      "19     49.493421\n",
      "20     48.560426\n",
      "21     48.493333\n",
      "22     48.315517\n",
      "23     47.307500\n",
      "24     49.120000\n",
      "Name: Time, dtype: float64\n",
      "\n",
      "Non-Specialists Mean Swim Times:\n",
      " Age_at_time_of_Swim\n",
      "5     110.950000\n",
      "6      98.932353\n",
      "7      90.483168\n",
      "8      80.718737\n",
      "9      73.119301\n",
      "10     67.629884\n",
      "11     61.837043\n",
      "12     57.681318\n",
      "13     55.493655\n",
      "14     53.751120\n",
      "15     52.622092\n",
      "16     51.917731\n",
      "17     51.654827\n",
      "18     51.132222\n",
      "19     50.360340\n",
      "20     50.046250\n",
      "21     49.459690\n",
      "22     48.973429\n",
      "23     48.496429\n",
      "24     49.510000\n",
      "28     49.980000\n",
      "Name: Time, dtype: float64\n"
     ]
    }
   ],
   "execution_count": 50
  },
  {
   "metadata": {
    "ExecuteTime": {
     "end_time": "2025-03-13T19:34:44.687275Z",
     "start_time": "2025-03-13T19:34:44.684432Z"
    }
   },
   "cell_type": "code",
   "source": [
    "# Ensure age is sorted for proper time series analysis\n",
    "specialist_means = specialist_means.sort_index()\n",
    "non_specialist_means = non_specialist_means.sort_index()\n",
    "\n",
    "# Print to verify structure\n",
    "print(\"Specialist Mean Swim Times:\\n\", specialist_means)\n",
    "print(\"\\nNon-Specialist Mean Swim Times:\\n\", non_specialist_means)\n"
   ],
   "id": "59bce28609df90cb",
   "outputs": [
    {
     "name": "stdout",
     "output_type": "stream",
     "text": [
      "Specialist Mean Swim Times:\n",
      " Age_at_time_of_Swim\n",
      "5     107.700000\n",
      "6      88.041667\n",
      "7      78.538889\n",
      "8      72.856667\n",
      "9      67.657273\n",
      "10     62.151316\n",
      "11     58.390000\n",
      "12     55.588983\n",
      "13     53.434464\n",
      "14     51.595667\n",
      "15     51.101964\n",
      "16     50.105455\n",
      "17     49.975349\n",
      "18     49.849189\n",
      "19     49.493421\n",
      "20     48.560426\n",
      "21     48.493333\n",
      "22     48.315517\n",
      "23     47.307500\n",
      "24     49.120000\n",
      "Name: Time, dtype: float64\n",
      "\n",
      "Non-Specialist Mean Swim Times:\n",
      " Age_at_time_of_Swim\n",
      "5     110.950000\n",
      "6      98.932353\n",
      "7      90.483168\n",
      "8      80.718737\n",
      "9      73.119301\n",
      "10     67.629884\n",
      "11     61.837043\n",
      "12     57.681318\n",
      "13     55.493655\n",
      "14     53.751120\n",
      "15     52.622092\n",
      "16     51.917731\n",
      "17     51.654827\n",
      "18     51.132222\n",
      "19     50.360340\n",
      "20     50.046250\n",
      "21     49.459690\n",
      "22     48.973429\n",
      "23     48.496429\n",
      "24     49.510000\n",
      "28     49.980000\n",
      "Name: Time, dtype: float64\n"
     ]
    }
   ],
   "execution_count": 51
  },
  {
   "metadata": {
    "ExecuteTime": {
     "end_time": "2025-03-13T19:34:44.706050Z",
     "start_time": "2025-03-13T19:34:44.700412Z"
    }
   },
   "cell_type": "code",
   "source": [
    "# Check for stationarity Before Applying ARIMA \n",
    "\n",
    "# ARIMA assumes stationarity, meaning the time series should have a constant mean and variance. \n",
    "\n",
    "def check_stationarity(series, name=\"Time Series\"):\n",
    "    result = adfuller(series.dropna())  # Drop NaN values before ADF test\n",
    "    print(f\"\\n{name} ADF Test Results:\")\n",
    "    print(f\"Test Statistic: {result[0]}\")\n",
    "    print(f\"P-value: {result[1]}\")\n",
    "    print(f\"Critical Values: {result[4]}\")\n",
    "\n",
    "    if result[1] <= 0.05:\n",
    "        print(f\"{name} is likely stationary (p ≤ 0.05). No differencing needed.\")\n",
    "    else:\n",
    "        print(f\"{name} is likely non-stationary (p > 0.05), consider differencing.\")\n",
    "\n",
    "# Check stationarity for both groups\n",
    "check_stationarity(specialist_means, \"Specialist Swim Times\")\n",
    "check_stationarity(non_specialist_means, \"Non-Specialist Swim Times\")"
   ],
   "id": "a467322962cdcff4",
   "outputs": [
    {
     "name": "stdout",
     "output_type": "stream",
     "text": [
      "\n",
      "Specialist Swim Times ADF Test Results:\n",
      "Test Statistic: -79.03181241933636\n",
      "P-value: 0.0\n",
      "Critical Values: {'1%': -4.223238279489106, '5%': -3.189368925619835, '10%': -2.729839421487603}\n",
      "Specialist Swim Times is likely stationary (p ≤ 0.05). No differencing needed.\n",
      "\n",
      "Non-Specialist Swim Times ADF Test Results:\n",
      "Test Statistic: -1.610897213566814\n",
      "P-value: 0.47750464860067754\n",
      "Critical Values: {'1%': -4.01203360058309, '5%': -3.1041838775510207, '10%': -2.6909873469387753}\n",
      "Non-Specialist Swim Times is likely non-stationary (p > 0.05), consider differencing.\n"
     ]
    }
   ],
   "execution_count": 52
  },
  {
   "metadata": {
    "ExecuteTime": {
     "end_time": "2025-03-13T19:34:46.398139Z",
     "start_time": "2025-03-13T19:34:44.710393Z"
    }
   },
   "cell_type": "code",
   "source": [
    "\n",
    "\n",
    "# Auto-select ARIMA order for specialists (d=0)\n",
    "specialist_auto_arima = auto_arima(specialist_means, seasonal=False, d=0, stepwise=True, suppress_warnings=True)\n",
    "print(\"Best ARIMA Order for Specialists:\", specialist_auto_arima.order)\n",
    "\n",
    "# Auto-select ARIMA order for non-specialists (d=1)\n",
    "non_specialist_auto_arima = auto_arima(non_specialist_means.diff().dropna(), seasonal=False, d=1, stepwise=True, suppress_warnings=True)\n",
    "print(\"Best ARIMA Order for Non-Specialists:\", non_specialist_auto_arima.order)"
   ],
   "id": "75326268e7755301",
   "outputs": [
    {
     "name": "stdout",
     "output_type": "stream",
     "text": [
      "Best ARIMA Order for Specialists: (4, 0, 0)\n",
      "Best ARIMA Order for Non-Specialists: (1, 1, 0)\n"
     ]
    }
   ],
   "execution_count": 53
  },
  {
   "metadata": {
    "ExecuteTime": {
     "end_time": "2025-03-13T19:34:46.476635Z",
     "start_time": "2025-03-13T19:34:46.415884Z"
    }
   },
   "cell_type": "code",
   "source": [
    "from statsmodels.tsa.arima.model import ARIMA\n",
    "import warnings\n",
    "\n",
    "# Suppress warnings for cleaner output\n",
    "warnings.filterwarnings(\"ignore\")\n",
    "\n",
    "# Define ARIMA model order (p, d, q) - \n",
    "arima_order = (1, 1, 1)  # Can be tuned\n",
    "\n",
    "# Fit ARIMA for specialists - Predicts how they improve with age.\n",
    "specialist_arima_model = ARIMA(specialist_means, order=arima_order)\n",
    "specialist_arima_fit = specialist_arima_model.fit()\n",
    "\n",
    "# Fit ARIMA for non-specialists -  Predicts how they improve with age.\n",
    "non_specialist_arima_model = ARIMA(non_specialist_means, order=arima_order)\n",
    "non_specialist_arima_fit = non_specialist_arima_model.fit()\n",
    "\n",
    "# Print summaries\n",
    "print(\"Specialist ARIMA Model Summary:\\n\", specialist_arima_fit.summary())\n",
    "print(\"\\nNon-Specialist ARIMA Model Summary:\\n\", non_specialist_arima_fit.summary())\n"
   ],
   "id": "47681f8e286a84fd",
   "outputs": [
    {
     "name": "stdout",
     "output_type": "stream",
     "text": [
      "Specialist ARIMA Model Summary:\n",
      "                                SARIMAX Results                                \n",
      "==============================================================================\n",
      "Dep. Variable:                   Time   No. Observations:                   20\n",
      "Model:                 ARIMA(1, 1, 1)   Log Likelihood                 -45.549\n",
      "Date:                Thu, 13 Mar 2025   AIC                             97.097\n",
      "Time:                        12:34:46   BIC                             99.930\n",
      "Sample:                             0   HQIC                            97.577\n",
      "                                 - 20                                         \n",
      "Covariance Type:                  opg                                         \n",
      "==============================================================================\n",
      "                 coef    std err          z      P>|z|      [0.025      0.975]\n",
      "------------------------------------------------------------------------------\n",
      "ar.L1          0.9612      0.067     14.443      0.000       0.831       1.092\n",
      "ma.L1          0.5804      0.847      0.685      0.493      -1.080       2.240\n",
      "sigma2         5.7696      4.323      1.334      0.182      -2.704      14.243\n",
      "===================================================================================\n",
      "Ljung-Box (L1) (Q):                   6.00   Jarque-Bera (JB):                26.27\n",
      "Prob(Q):                              0.01   Prob(JB):                         0.00\n",
      "Heteroskedasticity (H):               0.13   Skew:                             1.80\n",
      "Prob(H) (two-sided):                  0.03   Kurtosis:                         7.50\n",
      "===================================================================================\n",
      "\n",
      "Warnings:\n",
      "[1] Covariance matrix calculated using the outer product of gradients (complex-step).\n",
      "\n",
      "Non-Specialist ARIMA Model Summary:\n",
      "                                SARIMAX Results                                \n",
      "==============================================================================\n",
      "Dep. Variable:                   Time   No. Observations:                   21\n",
      "Model:                 ARIMA(1, 1, 1)   Log Likelihood                 -35.976\n",
      "Date:                Thu, 13 Mar 2025   AIC                             77.952\n",
      "Time:                        12:34:46   BIC                             80.939\n",
      "Sample:                             0   HQIC                            78.535\n",
      "                                 - 21                                         \n",
      "Covariance Type:                  opg                                         \n",
      "==============================================================================\n",
      "                 coef    std err          z      P>|z|      [0.025      0.975]\n",
      "------------------------------------------------------------------------------\n",
      "ar.L1          0.9855      0.019     51.568      0.000       0.948       1.023\n",
      "ma.L1         -0.0140      0.229     -0.061      0.951      -0.463       0.435\n",
      "sigma2         1.7923      0.547      3.278      0.001       0.720       2.864\n",
      "===================================================================================\n",
      "Ljung-Box (L1) (Q):                   4.96   Jarque-Bera (JB):                 0.25\n",
      "Prob(Q):                              0.03   Prob(JB):                         0.88\n",
      "Heteroskedasticity (H):               0.10   Skew:                             0.27\n",
      "Prob(H) (two-sided):                  0.01   Kurtosis:                         3.01\n",
      "===================================================================================\n",
      "\n",
      "Warnings:\n",
      "[1] Covariance matrix calculated using the outer product of gradients (complex-step).\n"
     ]
    }
   ],
   "execution_count": 54
  },
  {
   "metadata": {
    "ExecuteTime": {
     "end_time": "2025-03-13T19:34:46.579053Z",
     "start_time": "2025-03-13T19:34:46.489840Z"
    }
   },
   "cell_type": "code",
   "source": [
    "plt.figure(figsize=(10, 5))\n",
    "\n",
    "# Plot actual means\n",
    "plt.plot(specialist_means.index, specialist_means.values, marker='o', linestyle='-', label=\"Specialists (Actual)\", color='blue')\n",
    "plt.plot(non_specialist_means.index, non_specialist_means.values, marker='s', linestyle='--', label=\"Non-Specialists (Actual)\", color='red')\n",
    "\n",
    "# Define forecast horizon (e.g., predict from 18 onward)\n",
    "forecast_start_age = 18\n",
    "forecast_horizon = 10  # Predict for 10 years (18 to 28)\n",
    "\n",
    "# Generate predictions starting at age 18\n",
    "specialist_forecast = specialist_arima_fit.predict(start=forecast_start_age, end=forecast_start_age + forecast_horizon)\n",
    "non_specialist_forecast = non_specialist_arima_fit.predict(start=forecast_start_age, end=forecast_start_age + forecast_horizon)\n",
    "\n",
    "# Plot forecasts\n",
    "plt.plot(range(forecast_start_age, forecast_start_age + forecast_horizon + 1), specialist_forecast, \n",
    "         marker='o', linestyle='dotted', label=\"Specialists (Forecast)\", color='green', alpha=0.7)\n",
    "\n",
    "plt.plot(range(forecast_start_age, forecast_start_age + forecast_horizon + 1), non_specialist_forecast, \n",
    "         marker='s', linestyle='dotted', label=\"Non-Specialists (Forecast)\", color='yellow', alpha=0.7)\n",
    "\n",
    "# Labels & legend\n",
    "plt.xlabel(\"Age\")\n",
    "plt.ylabel(\"Mean Swim Time (Seconds)\")\n",
    "plt.title(f\"ARIMA Forecast: Specialists vs. Non-Specialists ({event_name}) Starting at Age 18\")\n",
    "plt.legend()\n",
    "plt.grid()\n",
    "\n",
    "plt.show()"
   ],
   "id": "fd8ca987e96e3a0",
   "outputs": [
    {
     "data": {
      "text/plain": [
       "<Figure size 1000x500 with 1 Axes>"
      ],
      "image/png": "[encoded data removed]"
     },
     "metadata": {},
     "output_type": "display_data"
    }
   ],
   "execution_count": 55
  },
  {
   "metadata": {
    "ExecuteTime": {
     "end_time": "2025-03-13T19:34:46.597586Z",
     "start_time": "2025-03-13T19:34:46.595193Z"
    }
   },
   "cell_type": "code",
   "source": "",
   "id": "7efb0b4bc63d121",
   "outputs": [],
   "execution_count": null
  }
 ],
 "metadata": {
  "kernelspec": {
   "display_name": "Python (cs229_project_env)",
   "language": "python",
   "name": "cs229_project_env"
  },
  "language_info": {
   "codemirror_mode": {
    "name": "ipython",
    "version": 2
   },
   "file_extension": ".py",
   "mimetype": "text/x-python",
   "name": "python",
   "nbconvert_exporter": "python",
   "pygments_lexer": "ipython2",
   "version": "2.7.6"
  }
 },
 "nbformat": 4,
 "nbformat_minor": 5
}
